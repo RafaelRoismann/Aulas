{
 "cells": [
  {
   "cell_type": "code",
   "execution_count": 1,
   "metadata": {},
   "outputs": [],
   "source": [
    "dados= 0"
   ]
  },
  {
   "cell_type": "markdown",
   "metadata": {},
   "source": [
    "*Aula 05*\n",
    "---------\n",
    "\n",
    "-------------------------------------\n",
    "Topicos abordados durante a aula:\n",
    "\n",
    "- Converter uma coluna de um Dataframe para um tipo de dados categóricos\n",
    "- Converter números em categorias para ficar melhor a visualização \n",
    "- Ordenar uma coluna de um DataFrame do tipo category\n",
    "\n",
    "\n",
    "\n",
    "\n",
    "\n",
    "--------------------------------------------------------------------------------------\n",
    "\n",
    "**- Tranformar uma coluna em uma categoria**\n",
    "\n",
    "\n",
    "A linha de código dados['PLANO'] = dados['PLANO'].astype('category') converte a coluna 'PLANO' no DataFrame dados para o tipo de dados categórico\n",
    "\n",
    "\n",
    "----------------------------------\n",
    "\n",
    "**- Converter números em categorias para ficar melhor a visualização**\n",
    "O código está renomeando as categorias da coluna 'EC' de acordo com a nova lista fornecida. Isso pode ser útil para criar categorias mais significativas e compreensíveis nos seus dados."
   ]
  },
  {
   "cell_type": "code",
   "execution_count": null,
   "metadata": {},
   "outputs": [],
   "source": [
    "# Versão genérica\n",
    "# DataFrame[nome_da_coluna] = DataFrame[nome_da_coluna].astype('category')\n",
    "\n",
    "# Uso real em um DataFrame\n",
    "dados['PLANO'] = dados['PLANO'].astype('category')"
   ]
  },
  {
   "cell_type": "markdown",
   "metadata": {},
   "source": [
    "\n",
    "**- Converter números em categorias para ficar melhor a visualização**\n",
    "O código está renomeando as categorias da coluna 'EC' de acordo com a nova lista fornecida. Isso pode ser útil para criar categorias mais significativas e compreensíveis nos seus dados."
   ]
  },
  {
   "cell_type": "code",
   "execution_count": null,
   "metadata": {},
   "outputs": [],
   "source": [
    "# Versão genérica\n",
    "# DataFrame[nome_da_coluna] = [novo_nome_1, novo_nome_2, novo_nome_3]\n",
    "\n",
    "# Uso real em um DataFrame\n",
    "dados['EC'].cat.categories = ['Casado', 'Solteiro', 'Outros']"
   ]
  },
  {
   "cell_type": "markdown",
   "metadata": {},
   "source": [
    "- Ordenar uma coluna de um DataFrame do tipo category   "
   ]
  },
  {
   "cell_type": "code",
   "execution_count": null,
   "metadata": {},
   "outputs": [],
   "source": [
    "dados['SATISFACAO'] = pd.Categorical(dados.SATISFACAO, \n",
    "                                     categories = ['Muito Insatisfeito', 'Insatisfeito', 'Indiferente', \n",
    "                                                   'Satisfeito', 'Muito Satisfeito'], \n",
    "                                     ordered=True)"
   ]
  }
 ],
 "metadata": {
  "kernelspec": {
   "display_name": "base",
   "language": "python",
   "name": "python3"
  },
  "language_info": {
   "codemirror_mode": {
    "name": "ipython",
    "version": 3
   },
   "file_extension": ".py",
   "mimetype": "text/x-python",
   "name": "python",
   "nbconvert_exporter": "python",
   "pygments_lexer": "ipython3",
   "version": "3.9.13"
  },
  "orig_nbformat": 4
 },
 "nbformat": 4,
 "nbformat_minor": 2
}
